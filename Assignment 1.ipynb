{
 "cells": [
  {
   "cell_type": "code",
   "execution_count": 10,
   "metadata": {},
   "outputs": [
    {
     "name": "stdout",
     "output_type": "stream",
     "text": [
      "[2030, 2065, 2100, 2135, 2170, 2205, 2240, 2275, 2310, 2345, 2380, 2415, 2450, 2485, 2520, 2555, 2590, 2625, 2660, 2695, 2730, 2765, 2800, 2835, 2870, 2905, 2940, 2975]\n"
     ]
    }
   ],
   "source": [
    "## Assignment 1.1\n",
    "## Write a program which will find all such numbers which are divisible by 7 but are not a multiple of 5, between 2000 and 3200 (both included). The numbers obtained should be printed\n",
    "## in a comma-separated sequence on a single line.\n",
    "lst1=[]\n",
    "for x in range(2000,3001):\n",
    "    if x%7==0:\n",
    "        if x%5==0:\n",
    "            lst1.append(x)\n",
    "print(lst1)"
   ]
  },
  {
   "cell_type": "code",
   "execution_count": 9,
   "metadata": {},
   "outputs": [
    {
     "name": "stdout",
     "output_type": "stream",
     "text": [
      "What is your first name ?Tukesh\n",
      "What is you last name ?Rdura\n",
      "arudR hsekuT\n"
     ]
    }
   ],
   "source": [
    "## Assignment 1.2\n",
    "## Write a Python program to accept the user's first and last name and then getting them\n",
    "## printed in the the reverse order with a space between first name and last name.\n",
    "first_name=input(\"What is your first name ?\")\n",
    "last_name=input(\"What is you last name ?\")\n",
    "text1=first_name[::-1]\n",
    "text2=last_name[::-1]\n",
    "print(\"{} {}\".format(text2,text1))"
   ]
  },
  {
   "cell_type": "code",
   "execution_count": 13,
   "metadata": {},
   "outputs": [
    {
     "name": "stdout",
     "output_type": "stream",
     "text": [
      "904.3199999999998\n"
     ]
    }
   ],
   "source": [
    "## Assignment 1.3\n",
    "## Write a Python program to find the volume of a sphere with diameter 12 cm.\n",
    "## Formula: V=4/3 * π * r*r*r\n",
    "r=12/2\n",
    "pi=3.14\n",
    "v=(4.0/3.0)*pi*r*r*r\n",
    "print(v)"
   ]
  },
  {
   "cell_type": "code",
   "execution_count": null,
   "metadata": {},
   "outputs": [],
   "source": []
  }
 ],
 "metadata": {
  "kernelspec": {
   "display_name": "Python 3",
   "language": "python",
   "name": "python3"
  },
  "language_info": {
   "codemirror_mode": {
    "name": "ipython",
    "version": 3
   },
   "file_extension": ".py",
   "mimetype": "text/x-python",
   "name": "python",
   "nbconvert_exporter": "python",
   "pygments_lexer": "ipython3",
   "version": "3.8.5"
  }
 },
 "nbformat": 4,
 "nbformat_minor": 4
}
