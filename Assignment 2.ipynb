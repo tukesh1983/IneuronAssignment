{
 "cells": [
  {
   "cell_type": "code",
   "execution_count": 6,
   "metadata": {},
   "outputs": [
    {
     "name": "stdout",
     "output_type": "stream",
     "text": [
      "Enter a string ? tukesh\n",
      "hsekut\n"
     ]
    }
   ],
   "source": [
    "## Assignment 2.2\n",
    "## Write a Python program to reverse a word after accepting the input from the user\n",
    "def rev(text1):\n",
    "    text2=text1[::-1]\n",
    "    return text2\n",
    "text1=input(\"Enter a string ? \")\n",
    "text3=rev(text1)\n",
    "print(text3)"
   ]
  },
  {
   "cell_type": "code",
   "execution_count": 18,
   "metadata": {},
   "outputs": [
    {
     "name": "stdout",
     "output_type": "stream",
     "text": [
      "*\r\n",
      "**\r\n",
      "***\r\n",
      "****\r\n",
      "*****\r\n",
      "****\r\n",
      "***\r\n",
      "**\r\n",
      "*\r\n",
      "\r\n"
     ]
    }
   ],
   "source": [
    "## Assignment 2.1\n",
    "## Create the below pattern using nested for loop in Python\n",
    "\n",
    "def pattern1(n):\n",
    "    for i in range(0,n):\n",
    "        for j in range (0,i+1):\n",
    "            print(\"*\", end=\"\")\n",
    "        print(\"\\r\")\n",
    "def pattern2(n):\n",
    "    for i in range(n,0,-1):\n",
    "        for j in range (0,i-1):\n",
    "            print(\"*\", end=\"\")\n",
    "        print(\"\\r\")\n",
    "        \n",
    "n=5\n",
    "pattern1(n)\n",
    "pattern2(n)"
   ]
  }
 ],
 "metadata": {
  "kernelspec": {
   "display_name": "Python 3",
   "language": "python",
   "name": "python3"
  },
  "language_info": {
   "codemirror_mode": {
    "name": "ipython",
    "version": 3
   },
   "file_extension": ".py",
   "mimetype": "text/x-python",
   "name": "python",
   "nbconvert_exporter": "python",
   "pygments_lexer": "ipython3",
   "version": "3.8.5"
  }
 },
 "nbformat": 4,
 "nbformat_minor": 4
}
